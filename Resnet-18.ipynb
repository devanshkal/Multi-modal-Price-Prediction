{
 "cells": [
  {
   "cell_type": "code",
   "execution_count": 1,
   "id": "ddc518b5",
   "metadata": {},
   "outputs": [],
   "source": [
    "import torch\n",
    "import torch.nn as nn\n",
    "from torch.utils.data import Dataset, DataLoader\n",
    "from torchvision import transforms, models\n",
    "from transformers import AutoTokenizer, AutoModel\n",
    "from PIL import Image\n",
    "import pandas as pd\n",
    "import requests\n",
    "from io import BytesIO\n",
    "from sklearn.model_selection import train_test_split\n",
    "from tqdm import tqdm"
   ]
  },
  {
   "cell_type": "code",
   "execution_count": 4,
   "id": "a0372419",
   "metadata": {},
   "outputs": [
    {
     "name": "stdout",
     "output_type": "stream",
     "text": [
      "Using device: cpu\n"
     ]
    }
   ],
   "source": [
    "device = torch.device(\"cuda\" if torch.cuda.is_available() else \"cpu\")\n",
    "print(\"Using device:\", device)"
   ]
  },
  {
   "cell_type": "markdown",
   "id": "d1ebbe09",
   "metadata": {},
   "source": [
    "DATA LOADING"
   ]
  },
  {
   "cell_type": "code",
   "execution_count": 3,
   "id": "cd989684",
   "metadata": {},
   "outputs": [
    {
     "name": "stderr",
     "output_type": "stream",
     "text": [
      "<>:1: SyntaxWarning: invalid escape sequence '\\A'\n",
      "<>:1: SyntaxWarning: invalid escape sequence '\\A'\n",
      "C:\\Users\\devan\\AppData\\Local\\Temp\\ipykernel_6352\\935997749.py:1: SyntaxWarning: invalid escape sequence '\\A'\n",
      "  df = pd.read_csv(\"D:\\Amazon ML\\\\68e8d1d70b66d_student_resource\\\\student_resource\\\\dataset\\\\train.csv\")\n"
     ]
    },
    {
     "name": "stdout",
     "output_type": "stream",
     "text": [
      "   sample_id                                    catalog_content  \\\n",
      "0      33127  Item Name: La Victoria Green Taco Sauce Mild, ...   \n",
      "1     198967  Item Name: Salerno Cookies, The Original Butte...   \n",
      "2     261251  Item Name: Bear Creek Hearty Soup Bowl, Creamy...   \n",
      "3      55858  Item Name: Judee’s Blue Cheese Powder 11.25 oz...   \n",
      "4     292686  Item Name: kedem Sherry Cooking Wine, 12.7 Oun...   \n",
      "\n",
      "                                          image_link  price  \n",
      "0  https://m.media-amazon.com/images/I/51mo8htwTH...   4.89  \n",
      "1  https://m.media-amazon.com/images/I/71YtriIHAA...  13.12  \n",
      "2  https://m.media-amazon.com/images/I/51+PFEe-w-...   1.97  \n",
      "3  https://m.media-amazon.com/images/I/41mu0HAToD...  30.34  \n",
      "4  https://m.media-amazon.com/images/I/41sA037+Qv...  66.49  \n"
     ]
    }
   ],
   "source": [
    "df = pd.read_csv(\"D:\\Amazon ML\\\\68e8d1d70b66d_student_resource\\\\student_resource\\\\dataset\\\\train.csv\")\n",
    "print(df.head())\n",
    "\n",
    "assert all(col in df.columns for col in [\"sample_id\", \"catalog_content\", \"image_link\", \"price\"])\n",
    "\n",
    "train_df, val_df = train_test_split(df, test_size=0.1, random_state=42)"
   ]
  },
  {
   "cell_type": "markdown",
   "id": "c063c940",
   "metadata": {},
   "source": [
    "Transforming Images according to the ImageNet specifications and using distilbert as a tokenizer."
   ]
  },
  {
   "cell_type": "code",
   "execution_count": null,
   "id": "51b92600",
   "metadata": {},
   "outputs": [],
   "source": [
    "image_transform = transforms.Compose([\n",
    "    transforms.Resize((224, 224)),\n",
    "    transforms.ToTensor(),\n",
    "    transforms.Normalize(mean=[0.485, 0.456, 0.406],\n",
    "                         std=[0.229, 0.224, 0.225])\n",
    "])\n",
    "\n",
    "tokenizer = AutoTokenizer.from_pretrained(\"distilbert-base-uncased\")\n",
    "text_model = AutoModel.from_pretrained(\"distilbert-base-uncased\")"
   ]
  },
  {
   "cell_type": "code",
   "execution_count": null,
   "id": "b8275ba7",
   "metadata": {},
   "outputs": [],
   "source": [
    "class MultimodalDataset(Dataset):\n",
    "    def __init__(self, dataframe, transform=None):\n",
    "        self.df = dataframe.reset_index(drop=True)\n",
    "        self.transform = transform\n",
    "\n",
    "    def __len__(self):\n",
    "        return len(self.df)\n",
    "\n",
    "    def __getitem__(self, idx):\n",
    "        row = self.df.iloc[idx]\n",
    "        img_url = row[\"image_link\"]\n",
    "        text = row[\"catalog_content\"]\n",
    "        price = torch.tensor(row[\"price\"], dtype=torch.float32)\n",
    "\n",
    "        # Image\n",
    "        try:\n",
    "            response = requests.get(img_url, timeout=5)\n",
    "            img = Image.open(BytesIO(response.content)).convert(\"RGB\")\n",
    "        except:\n",
    "            img = Image.new(\"RGB\", (224, 224), color=\"white\")\n",
    "        if self.transform:\n",
    "            img = self.transform(img)\n",
    "\n",
    "        # Text\n",
    "        encoding = tokenizer(text, truncation=True, padding='max_length',\n",
    "                             max_length=128, return_tensors='pt')\n",
    "        return img, encoding, price"
   ]
  },
  {
   "cell_type": "code",
   "execution_count": 6,
   "id": "2fd036f7",
   "metadata": {},
   "outputs": [],
   "source": [
    "train_dataset = MultimodalDataset(train_df, transform=image_transform)\n",
    "val_dataset = MultimodalDataset(val_df, transform=image_transform)\n",
    "\n",
    "train_loader = DataLoader(train_dataset, batch_size=8, shuffle=True)\n",
    "val_loader = DataLoader(val_dataset, batch_size=8, shuffle=False)"
   ]
  },
  {
   "cell_type": "code",
   "execution_count": null,
   "id": "b900b4e5",
   "metadata": {},
   "outputs": [],
   "source": [
    "class MultimodalRegressor(nn.Module):\n",
    "    def __init__(self):\n",
    "        super().__init__()\n",
    "        # Image branch \n",
    "        self.img_model = models.resnet18(pretrained=True)\n",
    "        for param in self.img_model.parameters():\n",
    "            param.requires_grad = False\n",
    "        num_ftrs = self.img_model.fc.in_features\n",
    "        self.img_model.fc = nn.Identity() \n",
    "\n",
    "        # Text branch \n",
    "        self.text_model = text_model\n",
    "        for param in self.text_model.parameters():\n",
    "            param.requires_grad = False\n",
    "        self.text_fc = nn.Sequential(\n",
    "            nn.Linear(768, 256),\n",
    "            nn.ReLU(),\n",
    "            nn.Dropout(0.3)\n",
    "        )\n",
    "\n",
    "        # Combined head \n",
    "        self.fc = nn.Sequential(\n",
    "            nn.Linear(num_ftrs + 256, 512),\n",
    "            nn.ReLU(),\n",
    "            nn.Dropout(0.3),\n",
    "            nn.Linear(512, 1)\n",
    "        )\n",
    "\n",
    "    def forward(self, img, text_inputs):\n",
    "        # Image features\n",
    "        img_feat = self.img_model(img)\n",
    "\n",
    "        # Text features\n",
    "        outputs = self.text_model(**{k: v.squeeze(1).to(device) for k, v in text_inputs.items()})\n",
    "        text_feat = outputs.last_hidden_state.mean(dim=1)\n",
    "        text_feat = self.text_fc(text_feat)\n",
    "\n",
    "        # Concatenate\n",
    "        combined = torch.cat((img_feat, text_feat), dim=1)\n",
    "        price = self.fc(combined)\n",
    "        return price"
   ]
  },
  {
   "cell_type": "code",
   "execution_count": 8,
   "id": "e96d60aa",
   "metadata": {},
   "outputs": [
    {
     "name": "stderr",
     "output_type": "stream",
     "text": [
      "C:\\Users\\devan\\AppData\\Local\\Packages\\PythonSoftwareFoundation.Python.3.13_qbz5n2kfra8p0\\LocalCache\\local-packages\\Python313\\site-packages\\torchvision\\models\\_utils.py:208: UserWarning: The parameter 'pretrained' is deprecated since 0.13 and may be removed in the future, please use 'weights' instead.\n",
      "  warnings.warn(\n",
      "C:\\Users\\devan\\AppData\\Local\\Packages\\PythonSoftwareFoundation.Python.3.13_qbz5n2kfra8p0\\LocalCache\\local-packages\\Python313\\site-packages\\torchvision\\models\\_utils.py:223: UserWarning: Arguments other than a weight enum or `None` for 'weights' are deprecated since 0.13 and may be removed in the future. The current behavior is equivalent to passing `weights=ResNet18_Weights.IMAGENET1K_V1`. You can also use `weights=ResNet18_Weights.DEFAULT` to get the most up-to-date weights.\n",
      "  warnings.warn(msg)\n"
     ]
    }
   ],
   "source": [
    "model = MultimodalRegressor().to(device)\n",
    "criterion = nn.MSELoss()\n",
    "optimizer = torch.optim.Adam(model.fc.parameters(), lr=1e-4)"
   ]
  },
  {
   "cell_type": "code",
   "execution_count": null,
   "id": "5d886d83",
   "metadata": {},
   "outputs": [
    {
     "name": "stderr",
     "output_type": "stream",
     "text": [
      "Epoch 1/5: 100%|██████████| 8438/8438 [2:17:07<00:00,  1.03it/s]   \n"
     ]
    },
    {
     "name": "stdout",
     "output_type": "stream",
     "text": [
      "Epoch [1/5] | Train Loss: 1126.3453\n",
      "Epoch [1/5] | Validation Loss: 1029.4116\n",
      "\n"
     ]
    },
    {
     "name": "stderr",
     "output_type": "stream",
     "text": [
      "Epoch 2/5: 100%|██████████| 8438/8438 [1:41:24<00:00,  1.39it/s]\n"
     ]
    },
    {
     "name": "stdout",
     "output_type": "stream",
     "text": [
      "Epoch [2/5] | Train Loss: 1118.0524\n",
      "Epoch [2/5] | Validation Loss: 1028.4057\n",
      "\n"
     ]
    },
    {
     "name": "stderr",
     "output_type": "stream",
     "text": [
      "Epoch 3/5: 100%|██████████| 8438/8438 [1:41:17<00:00,  1.39it/s]\n"
     ]
    },
    {
     "name": "stdout",
     "output_type": "stream",
     "text": [
      "Epoch [3/5] | Train Loss: 1112.7200\n",
      "Epoch [3/5] | Validation Loss: 1015.9745\n",
      "\n"
     ]
    },
    {
     "name": "stderr",
     "output_type": "stream",
     "text": [
      "Epoch 4/5: 100%|██████████| 8438/8438 [1:40:46<00:00,  1.40it/s]\n"
     ]
    },
    {
     "name": "stdout",
     "output_type": "stream",
     "text": [
      "Epoch [4/5] | Train Loss: 1105.0151\n",
      "Epoch [4/5] | Validation Loss: 1008.9846\n",
      "\n"
     ]
    },
    {
     "name": "stderr",
     "output_type": "stream",
     "text": [
      "Epoch 5/5: 100%|██████████| 8438/8438 [2:17:44<00:00,  1.02it/s]  \n"
     ]
    },
    {
     "name": "stdout",
     "output_type": "stream",
     "text": [
      "Epoch [5/5] | Train Loss: 1098.6335\n",
      "Epoch [5/5] | Validation Loss: 1766.7521\n",
      "\n"
     ]
    }
   ],
   "source": [
    "EPOCHS = 5\n",
    "for epoch in range(EPOCHS):\n",
    "    model.train()\n",
    "    train_loss = 0.0\n",
    "    for imgs, text_enc, prices in tqdm(train_loader, desc=f\"Epoch {epoch+1}/{EPOCHS}\"):\n",
    "        imgs, prices = imgs.to(device), prices.to(device).unsqueeze(1)\n",
    "\n",
    "        optimizer.zero_grad()\n",
    "        outputs = model(imgs, text_enc)\n",
    "        loss = criterion(outputs, prices)\n",
    "        loss.backward()\n",
    "        optimizer.step()\n",
    "        train_loss += loss.item()\n",
    "\n",
    "    avg_train_loss = train_loss / len(train_loader)\n",
    "    print(f\"Epoch [{epoch+1}/{EPOCHS}] | Train Loss: {avg_train_loss:.4f}\")\n",
    "\n",
    "    # Validation\n",
    "    model.eval()\n",
    "    val_loss = 0.0\n",
    "    with torch.no_grad():\n",
    "        for imgs, text_enc, prices in val_loader:\n",
    "            imgs, prices = imgs.to(device), prices.to(device).unsqueeze(1)\n",
    "            outputs = model(imgs, text_enc)\n",
    "            loss = criterion(outputs, prices)\n",
    "            val_loss += loss.item()\n",
    "\n",
    "    avg_val_loss = val_loss / len(val_loader)\n",
    "    print(f\"Epoch [{epoch+1}/{EPOCHS}] | Validation Loss: {avg_val_loss:.4f}\\n\")"
   ]
  },
  {
   "cell_type": "markdown",
   "id": "71544511",
   "metadata": {},
   "source": [
    "Saving the model and the weights of the model in .pth format."
   ]
  },
  {
   "cell_type": "code",
   "execution_count": null,
   "id": "e759d114",
   "metadata": {},
   "outputs": [],
   "source": [
    "torch.save(model.state_dict(), \"multimodal_price_predictor.pth\")\n",
    "print(\" Model training complete and saved as 'multimodal_price_predictor.pth'\")"
   ]
  }
 ],
 "metadata": {
  "kernelspec": {
   "display_name": "Python 3",
   "language": "python",
   "name": "python3"
  },
  "language_info": {
   "codemirror_mode": {
    "name": "ipython",
    "version": 3
   },
   "file_extension": ".py",
   "mimetype": "text/x-python",
   "name": "python",
   "nbconvert_exporter": "python",
   "pygments_lexer": "ipython3",
   "version": "3.13.8"
  }
 },
 "nbformat": 4,
 "nbformat_minor": 5
}
